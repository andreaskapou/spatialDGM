{
 "cells": [
  {
   "cell_type": "markdown",
   "metadata": {},
   "source": [
    "# Run spatialVAE on rotated MNIST dataset"
   ]
  },
  {
   "cell_type": "code",
   "execution_count": null,
   "metadata": {},
   "outputs": [],
   "source": [
    "import sys\n",
    "sys.path.append('../models')\n",
    "\n",
    "import hydra\n",
    "#from hydra import initialize, initialize_config_module, initialize_config_dir, compose\n",
    "from hydra.experimental import compose, initialize\n",
    "import logging\n",
    "import os\n",
    "import numpy as np\n",
    "import os.path as osp\n",
    "import pytorch_lightning as pl\n",
    "import torch\n",
    "import torchvision.transforms.functional as TF\n",
    "\n",
    "from dm_mnist import MnistDataModule\n",
    "import matplotlib.pyplot as plt\n",
    "from vae import VAE\n",
    "from spatialVAE import spatialVAE\n",
    "from omegaconf import OmegaConf\n",
    "logger = logging.getLogger(__name__)"
   ]
  },
  {
   "cell_type": "markdown",
   "metadata": {},
   "source": [
    "# Load settings"
   ]
  },
  {
   "cell_type": "code",
   "execution_count": null,
   "metadata": {},
   "outputs": [],
   "source": [
    "with initialize(config_path=\"../configs\"):\n",
    "    cfg = compose(config_name=\"spatialVAE_mnist.yaml\")\n",
    "    print(cfg)\n",
    "out_dir = osp.join(\"..\", \"output\")\n",
    "\n",
    "# To ensure reproducibility\n",
    "pl.seed_everything(123)"
   ]
  },
  {
   "cell_type": "code",
   "execution_count": null,
   "metadata": {},
   "outputs": [],
   "source": [
    "# Dataset\n",
    "dm = MnistDataModule(data_dir = osp.join('..', 'data'), dataset_name=\"MNIST\", modify=cfg.modify)\n",
    "# Model\n",
    "spatialvae_model = spatialVAE(cfg, data_dim=dm.size())\n",
    "# Train\n",
    "trainer = pl.Trainer(checkpoint_callback=False,\n",
    "                     max_epochs=cfg.num_epochs,\n",
    "                     fast_dev_run=cfg.fast_dev_run,\n",
    "                     gpus=[0] if torch.cuda.is_available() else 0)\n",
    "trainer.fit(model=spatialvae_model, datamodule=dm)"
   ]
  },
  {
   "cell_type": "code",
   "execution_count": null,
   "metadata": {},
   "outputs": [],
   "source": [
    "save_file = osp.join(out_dir, 'vae_mnist_encoder.pth')\n",
    "torch.save(vae_model.q_net.state_dict(), save_file)\n",
    "save_file = osp.join(out_dir, 'vae_mnist_decoder.pth')\n",
    "torch.save(vae_model.p_net.state_dict(), save_file)"
   ]
  },
  {
   "cell_type": "markdown",
   "metadata": {},
   "source": [
    "## Visualise example data"
   ]
  },
  {
   "cell_type": "code",
   "execution_count": null,
   "metadata": {},
   "outputs": [],
   "source": [
    "plt.rcParams['figure.figsize'] = [8, 8]\n",
    "\n",
    "# Visualize rotated dataset\n",
    "fig, axs = plt.subplots(2, 5)\n",
    "for ax, i in zip(axs.flatten(), np.arange(0, 10)):\n",
    "    img, _, angle = dm.train_set[i]\n",
    "    ax.imshow(img.squeeze())\n",
    "    ax.set_axis_off()\n",
    "fig.suptitle(\"MNIST Rotated Visualization\")\n",
    "plt.tight_layout()\n",
    "plt.show()"
   ]
  },
  {
   "cell_type": "code",
   "execution_count": null,
   "metadata": {},
   "outputs": [],
   "source": [
    "# Visualize original dataset\n",
    "fig, axs = plt.subplots(2, 5)\n",
    "for ax, i in zip(axs.flatten(), np.arange(0, 10)):\n",
    "    img, _, angle = dm.train_set[i]\n",
    "    angle_deg = angle.item() * 180 / np.pi\n",
    "    img = TF.rotate(img=img, angle=-angle_deg) \n",
    "    ax.imshow(img.squeeze())\n",
    "    ax.set_axis_off()\n",
    "fig.suptitle(\"MNIST Original Visualization\")\n",
    "plt.tight_layout()\n",
    "plt.show()"
   ]
  },
  {
   "cell_type": "code",
   "execution_count": null,
   "metadata": {},
   "outputs": [],
   "source": [
    "# VAE predictions\n",
    "vae_model.eval()\n",
    "fig, axs = plt.subplots(2, 5)\n",
    "for ax, i in zip(axs.flatten(), np.arange(0, 10)):\n",
    "    img, _, angle = dm.train_set[i]\n",
    "    # First parameter of forward is y_hat: reconstructed input\n",
    "    imgs_vae = vae_model(img)[0].detach().numpy()\n",
    "    ax.imshow(imgs_vae.squeeze()) #cmap='gray'\n",
    "    ax.set_axis_off()\n",
    "fig.suptitle(\"MNIST Reconstructed Visualization\")\n",
    "plt.tight_layout()\n",
    "plt.show()"
   ]
  },
  {
   "cell_type": "markdown",
   "metadata": {},
   "source": [
    "## Latent space visualisation"
   ]
  },
  {
   "cell_type": "code",
   "execution_count": null,
   "metadata": {},
   "outputs": [],
   "source": [
    "def plot_latent(vae, data, num_batches=100):\n",
    "    z = np.zeros((num_batches+1, 2))\n",
    "    target = []\n",
    "    for i, (img, t, angle) in enumerate(data):\n",
    "        # Second parameter of forward is z: latent space\n",
    "        z[i, :] = vae_model(img)[1].detach().numpy()\n",
    "        target.append(t)\n",
    "        if i >= num_batches:\n",
    "            break\n",
    "    plt.scatter(z[:, 0], z[:, 1], c=target, cmap='tab10')\n",
    "    plt.colorbar()\n",
    "plot_latent(vae_model, dm.train_set, num_batches=15000)"
   ]
  },
  {
   "cell_type": "code",
   "execution_count": null,
   "metadata": {},
   "outputs": [],
   "source": [
    "def plot_reconstructed(vae, r0=(-10, 10), r1=(-5, 10), n=15):\n",
    "    w = 28\n",
    "    img = np.zeros((n*w, n*w))\n",
    "    for i, y in enumerate(np.linspace(*r1, n)):\n",
    "        for j, x in enumerate(np.linspace(*r0, n)):\n",
    "            z = torch.Tensor([[x, y]]).to('cpu')\n",
    "            x_hat = vae.p_net(z)\n",
    "            x_hat = x_hat.reshape(28, 28).to('cpu').detach().numpy()\n",
    "            img[(n-1-i)*w:(n-1-i+1)*w, j*w:(j+1)*w] = x_hat\n",
    "    plt.imshow(img, extent=[*r0, *r1], cmap='gray')\n",
    "plot_reconstructed(vae_model)"
   ]
  },
  {
   "cell_type": "markdown",
   "metadata": {},
   "source": [
    "## Interpolation"
   ]
  },
  {
   "cell_type": "code",
   "execution_count": null,
   "metadata": {},
   "outputs": [],
   "source": [
    "plt.rcParams['figure.figsize'] = [15, 20]\n",
    "def interpolate(vae, x1, x2, n=12):\n",
    "    mu1, lv1 = vae.q_net(x1)\n",
    "    mu2, lv2 = vae.q_net(x2)\n",
    "    z1, _ = vae.reparameterize(mu=mu1, logstd=lv1)\n",
    "    z2, _ = vae.reparameterize(mu=mu2, logstd=lv2)\n",
    "    \n",
    "    z = torch.stack([z1 + (z2 - z1)*t for t in np.linspace(0, 1, n)])\n",
    "    interpolate_list = vae.p_net(z)\n",
    "    interpolate_list = interpolate_list.to('cpu').detach().numpy()\n",
    "\n",
    "    w = 28\n",
    "    img = np.zeros((w, n*w))\n",
    "    for i, x_hat in enumerate(interpolate_list):\n",
    "        img[:, i*w:(i+1)*w] = x_hat.reshape(28, 28)\n",
    "    plt.imshow(img)\n",
    "    plt.xticks([])\n",
    "    plt.yticks([])\n",
    "\n",
    "data = dm.train_dataloader()\n",
    "x, y, k = data.__iter__().next() # hack to grab a batch\n",
    "x_1 = x[y == 1][1].to('cpu') # find a 1\n",
    "x_2 = x[y == 0][1].to('cpu') # find a 0\n",
    "\n",
    "interpolate(vae_model, x_1, x_2, n=20)"
   ]
  },
  {
   "cell_type": "code",
   "execution_count": null,
   "metadata": {},
   "outputs": [],
   "source": []
  }
 ],
 "metadata": {
  "kernelspec": {
   "display_name": "Python 3 (ipykernel)",
   "language": "python",
   "name": "python3"
  },
  "language_info": {
   "codemirror_mode": {
    "name": "ipython",
    "version": 3
   },
   "file_extension": ".py",
   "mimetype": "text/x-python",
   "name": "python",
   "nbconvert_exporter": "python",
   "pygments_lexer": "ipython3",
   "version": "3.8.10"
  }
 },
 "nbformat": 4,
 "nbformat_minor": 4
}
