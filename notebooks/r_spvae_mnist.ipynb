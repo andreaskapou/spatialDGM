{
 "cells": [
  {
   "cell_type": "markdown",
   "metadata": {},
   "source": [
    "# Run spatialVAE on rotated MNIST dataset"
   ]
  },
  {
   "cell_type": "code",
   "execution_count": 1,
   "metadata": {},
   "outputs": [
    {
     "name": "stderr",
     "output_type": "stream",
     "text": [
      "/Users/ckapoura/anaconda3/envs/vae/lib/python3.8/site-packages/pytorch_lightning/metrics/__init__.py:43: LightningDeprecationWarning: `pytorch_lightning.metrics.*` module has been renamed to `torchmetrics.*` and split off to its own package (https://github.com/PyTorchLightning/metrics) since v1.3 and will be removed in v1.5\n",
      "  rank_zero_deprecation(\n"
     ]
    }
   ],
   "source": [
    "import sys\n",
    "sys.path.append('../models')\n",
    "\n",
    "import hydra\n",
    "#from hydra import initialize, initialize_config_module, initialize_config_dir, compose\n",
    "from hydra.experimental import compose, initialize\n",
    "import logging\n",
    "import os\n",
    "import numpy as np\n",
    "import os.path as osp\n",
    "import pytorch_lightning as pl\n",
    "import torch\n",
    "import torchvision.transforms.functional as TF\n",
    "\n",
    "from dm_mnist import MnistDataModule\n",
    "import matplotlib.pyplot as plt\n",
    "from vae import VAE\n",
    "from spatialVAE import SpatialVAE\n",
    "from omegaconf import OmegaConf\n",
    "logger = logging.getLogger(__name__)"
   ]
  },
  {
   "cell_type": "markdown",
   "metadata": {},
   "source": [
    "# Load settings"
   ]
  },
  {
   "cell_type": "code",
   "execution_count": 2,
   "metadata": {},
   "outputs": [
    {
     "name": "stderr",
     "output_type": "stream",
     "text": [
      "Global seed set to 123\n"
     ]
    },
    {
     "name": "stdout",
     "output_type": "stream",
     "text": [
      "{'dataset': 'mnist', 'likelihood': 'bernoulli', 'z_dim': 8, 'hidden_dim': 512, 'num_layers': 2, 'activation': 'tanh', 'modify': 1, 'kl_coef': 1.0, 'lr': 0.0001, 'step_size': 25, 'batch_size': 64, 'num_workers': 2, 'num_epochs': 100, 'seed': 123, 'fast_dev_run': False, 'dx_scale': 0.1, 'theta_prior': 0.7854}\n"
     ]
    },
    {
     "data": {
      "text/plain": [
       "123"
      ]
     },
     "execution_count": 2,
     "metadata": {},
     "output_type": "execute_result"
    }
   ],
   "source": [
    "with initialize(config_path=\"../configs\"):\n",
    "    cfg = compose(config_name=\"spatialVAE_mnist.yaml\")\n",
    "    print(cfg)\n",
    "out_dir = osp.join(\"..\", \"output\")\n",
    "\n",
    "# To ensure reproducibility\n",
    "pl.seed_everything(123)"
   ]
  },
  {
   "cell_type": "code",
   "execution_count": 3,
   "metadata": {},
   "outputs": [
    {
     "name": "stderr",
     "output_type": "stream",
     "text": [
      "GPU available: False, used: False\n",
      "TPU available: False, using: 0 TPU cores\n",
      "/Users/ckapoura/Research/Projects/yau/spatialDGM/code/spatialDGM/notebooks/../models/dm_mnist.py:272: UserWarning: The given NumPy array is not writeable, and PyTorch does not support non-writeable tensors. This means you can write to the underlying (supposedly non-writeable) NumPy array using the tensor. You may want to copy the array to protect its data or make it writeable before converting it to a tensor. This type of warning will be suppressed for the rest of this program. (Triggered internally at  /Users/distiller/project/conda/conda-bld/pytorch_1623459044803/work/torch/csrc/utils/tensor_numpy.cpp:180.)\n",
      "  return torch.from_numpy(parsed.astype(m[2], copy=False)).view(*s)\n",
      "\n",
      "  | Name  | Type           | Params\n",
      "-----------------------------------------\n",
      "0 | p_net | SpatialDecoder | 268 K \n",
      "1 | q_net | Encoder        | 673 K \n",
      "-----------------------------------------\n",
      "942 K     Trainable params\n",
      "0         Non-trainable params\n",
      "942 K     Total params\n",
      "3.770     Total estimated model params size (MB)\n"
     ]
    },
    {
     "data": {
      "application/vnd.jupyter.widget-view+json": {
       "model_id": "",
       "version_major": 2,
       "version_minor": 0
      },
      "text/plain": [
       "Validation sanity check: 0it [00:00, ?it/s]"
      ]
     },
     "metadata": {},
     "output_type": "display_data"
    },
    {
     "name": "stderr",
     "output_type": "stream",
     "text": [
      "/Users/ckapoura/anaconda3/envs/vae/lib/python3.8/site-packages/pytorch_lightning/trainer/data_loading.py:102: UserWarning: The dataloader, val dataloader 0, does not have many workers which may be a bottleneck. Consider increasing the value of the `num_workers` argument` (try 16 which is the number of cpus on this machine) in the `DataLoader` init to improve performance.\n",
      "  rank_zero_warn(\n",
      "Global seed set to 123\n",
      "/Users/ckapoura/anaconda3/envs/vae/lib/python3.8/site-packages/pytorch_lightning/trainer/data_loading.py:102: UserWarning: The dataloader, train dataloader, does not have many workers which may be a bottleneck. Consider increasing the value of the `num_workers` argument` (try 16 which is the number of cpus on this machine) in the `DataLoader` init to improve performance.\n",
      "  rank_zero_warn(\n"
     ]
    },
    {
     "data": {
      "application/vnd.jupyter.widget-view+json": {
       "model_id": "596a7235fde14ea582201e971ecdea17",
       "version_major": 2,
       "version_minor": 0
      },
      "text/plain": [
       "Training: 0it [00:00, ?it/s]"
      ]
     },
     "metadata": {},
     "output_type": "display_data"
    },
    {
     "name": "stderr",
     "output_type": "stream",
     "text": [
      "/Users/ckapoura/anaconda3/envs/vae/lib/python3.8/site-packages/pytorch_lightning/trainer/trainer.py:895: UserWarning: Detected KeyboardInterrupt, attempting graceful shutdown...\n",
      "  rank_zero_warn('Detected KeyboardInterrupt, attempting graceful shutdown...')\n"
     ]
    }
   ],
   "source": [
    "# Dataset\n",
    "dm = MnistDataModule(data_dir = osp.join('..', 'data'), dataset_name=\"MNIST\", modify=cfg.modify)\n",
    "# Model\n",
    "spatialvae_model = SpatialVAE(cfg, data_dim=dm.size())\n",
    "# Train\n",
    "trainer = pl.Trainer(checkpoint_callback=False,\n",
    "                     max_epochs=cfg.num_epochs,\n",
    "                     fast_dev_run=cfg.fast_dev_run,\n",
    "                     gpus=[0] if torch.cuda.is_available() else 0)\n",
    "trainer.fit(model=spatialvae_model, datamodule=dm)"
   ]
  },
  {
   "cell_type": "code",
   "execution_count": null,
   "metadata": {},
   "outputs": [],
   "source": [
    "save_file = osp.join(out_dir, 'vae_mnist_encoder.pth')\n",
    "torch.save(vae_model.q_net.state_dict(), save_file)\n",
    "save_file = osp.join(out_dir, 'vae_mnist_decoder.pth')\n",
    "torch.save(vae_model.p_net.state_dict(), save_file)"
   ]
  },
  {
   "cell_type": "markdown",
   "metadata": {},
   "source": [
    "## Visualise example data"
   ]
  },
  {
   "cell_type": "code",
   "execution_count": null,
   "metadata": {},
   "outputs": [],
   "source": [
    "plt.rcParams['figure.figsize'] = [8, 8]\n",
    "\n",
    "# Visualize rotated dataset\n",
    "fig, axs = plt.subplots(2, 5)\n",
    "for ax, i in zip(axs.flatten(), np.arange(0, 10)):\n",
    "    img, _, angle = dm.train_set[i]\n",
    "    ax.imshow(img.squeeze())\n",
    "    ax.set_axis_off()\n",
    "fig.suptitle(\"MNIST Rotated Visualization\")\n",
    "plt.tight_layout()\n",
    "plt.show()"
   ]
  },
  {
   "cell_type": "code",
   "execution_count": null,
   "metadata": {},
   "outputs": [],
   "source": [
    "# Visualize original dataset\n",
    "fig, axs = plt.subplots(2, 5)\n",
    "for ax, i in zip(axs.flatten(), np.arange(0, 10)):\n",
    "    img, _, angle = dm.train_set[i]\n",
    "    angle_deg = angle.item() * 180 / np.pi\n",
    "    img = TF.rotate(img=img, angle=-angle_deg) \n",
    "    ax.imshow(img.squeeze())\n",
    "    ax.set_axis_off()\n",
    "fig.suptitle(\"MNIST Original Visualization\")\n",
    "plt.tight_layout()\n",
    "plt.show()"
   ]
  },
  {
   "cell_type": "code",
   "execution_count": null,
   "metadata": {},
   "outputs": [],
   "source": [
    "# VAE predictions\n",
    "vae_model.eval()\n",
    "fig, axs = plt.subplots(2, 5)\n",
    "for ax, i in zip(axs.flatten(), np.arange(0, 10)):\n",
    "    img, _, angle = dm.train_set[i]\n",
    "    # First parameter of forward is y_hat: reconstructed input\n",
    "    imgs_vae = vae_model(img)[0].detach().numpy()\n",
    "    ax.imshow(imgs_vae.squeeze()) #cmap='gray'\n",
    "    ax.set_axis_off()\n",
    "fig.suptitle(\"MNIST Reconstructed Visualization\")\n",
    "plt.tight_layout()\n",
    "plt.show()"
   ]
  },
  {
   "cell_type": "markdown",
   "metadata": {},
   "source": [
    "## Latent space visualisation"
   ]
  },
  {
   "cell_type": "code",
   "execution_count": null,
   "metadata": {},
   "outputs": [],
   "source": [
    "def plot_latent(vae, data, num_batches=100):\n",
    "    z = np.zeros((num_batches+1, 2))\n",
    "    target = []\n",
    "    for i, (img, t, angle) in enumerate(data):\n",
    "        # Second parameter of forward is z: latent space\n",
    "        z[i, :] = vae_model(img)[1].detach().numpy()\n",
    "        target.append(t)\n",
    "        if i >= num_batches:\n",
    "            break\n",
    "    plt.scatter(z[:, 0], z[:, 1], c=target, cmap='tab10')\n",
    "    plt.colorbar()\n",
    "plot_latent(vae_model, dm.train_set, num_batches=15000)"
   ]
  },
  {
   "cell_type": "code",
   "execution_count": null,
   "metadata": {},
   "outputs": [],
   "source": [
    "def plot_reconstructed(vae, r0=(-10, 10), r1=(-5, 10), n=15):\n",
    "    w = 28\n",
    "    img = np.zeros((n*w, n*w))\n",
    "    for i, y in enumerate(np.linspace(*r1, n)):\n",
    "        for j, x in enumerate(np.linspace(*r0, n)):\n",
    "            z = torch.Tensor([[x, y]]).to('cpu')\n",
    "            x_hat = vae.p_net(z)\n",
    "            x_hat = x_hat.reshape(28, 28).to('cpu').detach().numpy()\n",
    "            img[(n-1-i)*w:(n-1-i+1)*w, j*w:(j+1)*w] = x_hat\n",
    "    plt.imshow(img, extent=[*r0, *r1], cmap='gray')\n",
    "plot_reconstructed(vae_model)"
   ]
  },
  {
   "cell_type": "markdown",
   "metadata": {},
   "source": [
    "## Interpolation"
   ]
  },
  {
   "cell_type": "code",
   "execution_count": null,
   "metadata": {},
   "outputs": [],
   "source": [
    "plt.rcParams['figure.figsize'] = [15, 20]\n",
    "def interpolate(vae, x1, x2, n=12):\n",
    "    mu1, lv1 = vae.q_net(x1)\n",
    "    mu2, lv2 = vae.q_net(x2)\n",
    "    z1, _ = vae.reparameterize(mu=mu1, logstd=lv1)\n",
    "    z2, _ = vae.reparameterize(mu=mu2, logstd=lv2)\n",
    "    \n",
    "    z = torch.stack([z1 + (z2 - z1)*t for t in np.linspace(0, 1, n)])\n",
    "    interpolate_list = vae.p_net(z)\n",
    "    interpolate_list = interpolate_list.to('cpu').detach().numpy()\n",
    "\n",
    "    w = 28\n",
    "    img = np.zeros((w, n*w))\n",
    "    for i, x_hat in enumerate(interpolate_list):\n",
    "        img[:, i*w:(i+1)*w] = x_hat.reshape(28, 28)\n",
    "    plt.imshow(img)\n",
    "    plt.xticks([])\n",
    "    plt.yticks([])\n",
    "\n",
    "data = dm.train_dataloader()\n",
    "x, y, k = data.__iter__().next() # hack to grab a batch\n",
    "x_1 = x[y == 1][1].to('cpu') # find a 1\n",
    "x_2 = x[y == 0][1].to('cpu') # find a 0\n",
    "\n",
    "interpolate(vae_model, x_1, x_2, n=20)"
   ]
  },
  {
   "cell_type": "code",
   "execution_count": null,
   "metadata": {},
   "outputs": [],
   "source": []
  }
 ],
 "metadata": {
  "kernelspec": {
   "display_name": "Python 3 (ipykernel)",
   "language": "python",
   "name": "python3"
  },
  "language_info": {
   "codemirror_mode": {
    "name": "ipython",
    "version": 3
   },
   "file_extension": ".py",
   "mimetype": "text/x-python",
   "name": "python",
   "nbconvert_exporter": "python",
   "pygments_lexer": "ipython3",
   "version": "3.8.10"
  }
 },
 "nbformat": 4,
 "nbformat_minor": 4
}
